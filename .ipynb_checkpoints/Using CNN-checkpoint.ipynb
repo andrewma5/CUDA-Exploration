{
 "cells": [
  {
   "cell_type": "code",
   "execution_count": 1,
   "id": "03b7a0e6-8d29-4e68-b22f-dc0aeb1090db",
   "metadata": {},
   "outputs": [],
   "source": [
    "from numba import cuda, jit, int64\n",
    "import numpy as np\n",
    "import timeit, random, time\n",
    "import matplotlib.pyplot as plt\n",
    "from PIL import Image, ImageOps"
   ]
  },
  {
   "cell_type": "code",
   "execution_count": 2,
   "id": "28646985-fe44-4812-811d-e28015c119dc",
   "metadata": {},
   "outputs": [],
   "source": [
    "sharpen_matrix = np.array([\n",
    "    [0, -1, 0],\n",
    "    [-1, 5, -1],\n",
    "    [0, -1, 0]\n",
    "])\n",
    "\n",
    "blur_matrix = np.array([\n",
    "    [0.0625, 0.125, 0.0625],\n",
    "    [0.125, 0.25, 0.125],\n",
    "    [0.0625, 0.125, 0.0625]\n",
    "])\n",
    "\n",
    "outline_matrix = np.array([\n",
    "    [-1, -1, -1],\n",
    "    [-1, 8, -1],\n",
    "    [-1, -1, -1]\n",
    "])"
   ]
  },
  {
   "cell_type": "code",
   "execution_count": 3,
   "id": "5b30d021-8f25-46af-956d-4c7846ff3d3a",
   "metadata": {},
   "outputs": [],
   "source": [
    "def calculate_target_size(img_size, kernel_size):\n",
    "    width = img_size[0] - kernel_size[0] + 1\n",
    "    height = img_size[1] - kernel_size[1] + 1\n",
    "    return (width, height)"
   ]
  },
  {
   "cell_type": "code",
   "execution_count": 4,
   "id": "32c9f650-307d-46a4-9b7f-1e7817ee93e4",
   "metadata": {},
   "outputs": [],
   "source": [
    "def gpu_convolve_runner(img, kernel):\n",
    "    # Generate the output array like before\n",
    "    tgt_size = calculate_target_size(\n",
    "        img_size=img.shape,\n",
    "        kernel_size=kernel.shape\n",
    "    )\n",
    "    convolved_img = np.zeros(shape=tgt_size)\n",
    "    \n",
    "    # The maximum number of threads per block is 1024, so the maximum would be 32 by 32. We use 16 by 16 here because why not :D\n",
    "    blockDim = (16, 16)\n",
    "    \n",
    "    # This will determine the number of blocks needed and the dimension of the grid\n",
    "    gridDim = (tgt_size[0] // blockDim[0] + 1, tgt_size[1] // blockDim[1] + 1)\n",
    "    \n",
    "    # Calling the GPU function. This will run the gpu_convolve function on every single thread in every block, and each thread will perform one singular convolution.\n",
    "    gpu_convolve[gridDim, blockDim](np.array(img), kernel, convolved_img)\n",
    "    \n",
    "    return convolved_img\n",
    "    \n",
    "\n",
    "@cuda.jit\n",
    "def gpu_convolve(image, mask, result):\n",
    "    # cuda.gird(2) will return the absolute position of the thread in the entire grid. The 2 is the number of dimensions. Essentially, this is \n",
    "    # cuda.blockIdx.x * cuda.blockDim.x + cuda.threadIdx.x but in a single function.\n",
    "    i, j = cuda.grid(2)\n",
    "    \n",
    "    # If i or j are outside of the bounds, return. This is because the largest i and j will always be a multiple of 16 (the block dimensions)\n",
    "    image_rows, image_cols = result.shape\n",
    "    if (i >= image_rows) or (j >= image_cols): \n",
    "        return\n",
    "    \n",
    "    # Set initial sum to 0\n",
    "    s = 0\n",
    "    \n",
    "    # Create the sub-array\n",
    "    kx = mask.shape[0]\n",
    "    ky = mask.shape[1]\n",
    "    mat = image[i:i+kx, j:j+ky]\n",
    "    \n",
    "    # Calculate the sum\n",
    "    for k in range(mat.shape[0]):\n",
    "        for l in range(mat.shape[1]):\n",
    "            s += mat[k, l] * mask[k, l]\n",
    "\n",
    "    result[i, j] = max(0, s) # relu"
   ]
  },
  {
   "cell_type": "code",
   "execution_count": 5,
   "id": "d8f922de-984d-4437-8c5d-1a12b239ec29",
   "metadata": {},
   "outputs": [],
   "source": [
    "from math import ceil\n",
    "def gpu_maxpool_runner(img, dim):\n",
    "    size_x = ceil(img.shape[0] / dim[0])\n",
    "    size_y = ceil(img.shape[1] / dim[1])\n",
    "    \n",
    "    result = np.zeros(shape=(size_x, size_y))\n",
    "    \n",
    "    blockDim = (16, 16)\n",
    "    gridDim = (size_x // blockDim[0] + 1, size_y // blockDim[1] + 1)\n",
    "    \n",
    "    gpu_maxpool[gridDim, blockDim](np.array(img), np.array(dim), result)\n",
    "    \n",
    "    return result\n",
    "\n",
    "@cuda.jit\n",
    "def gpu_maxpool(img, dim, res):\n",
    "    i, j = cuda.grid(2)\n",
    "        \n",
    "    if (i >= res.shape[0]) or (j >= res.shape[1]): \n",
    "        return\n",
    "        \n",
    "    maxpool = -999\n",
    "    \n",
    "    for k in range(dim[0]):\n",
    "        for l in range(dim[1]):\n",
    "            if dim[0]*i+k < img.shape[0] and dim[1]*j+l < img.shape[1]:\n",
    "                maxpool = max(img[dim[0]*i+k][dim[1]*j+l], maxpool)\n",
    "            else:\n",
    "                maxpool = max(0, maxpool)\n",
    "\n",
    "    res[i][j] = maxpool"
   ]
  },
  {
   "cell_type": "code",
   "execution_count": 6,
   "id": "5d626d85-72e0-4960-a751-73ebec95f224",
   "metadata": {},
   "outputs": [],
   "source": [
    "from tensorflow import keras\n",
    "(x_train, y_train), (x_test, y_test) = keras.datasets.mnist.load_data()"
   ]
  },
  {
   "cell_type": "code",
   "execution_count": 7,
   "id": "5902ca27-59d3-43ea-ac79-89254414406b",
   "metadata": {},
   "outputs": [],
   "source": [
    "x_train = x_train[0:10000]\n",
    "y_train = y_train[0:10000]\n",
    "x_test = x_test[0:2000]\n",
    "y_test = y_test[0:2000]"
   ]
  },
  {
   "cell_type": "code",
   "execution_count": 8,
   "id": "f029540a-0272-4ca3-b9a9-b47e7990f6ce",
   "metadata": {},
   "outputs": [],
   "source": [
    "def preprocess_pipeline(img):\n",
    "    img = img.astype(\"float32\") / 255.0\n",
    "    img = gpu_convolve_runner(img, outline_matrix)\n",
    "    img = gpu_maxpool_runner(img, (2, 2))\n",
    "    img = gpu_convolve_runner(img, sharpen_matrix)\n",
    "    img = gpu_maxpool_runner(img, (2, 2))\n",
    "    return img\n",
    "\n",
    "def flatten(img):\n",
    "    img = np.reshape(img, 36)\n",
    "    return img"
   ]
  },
  {
   "cell_type": "code",
   "execution_count": 9,
   "id": "8169c756-df47-487b-93c2-32dc44f16085",
   "metadata": {},
   "outputs": [
    {
     "data": {
      "text/plain": [
       "<matplotlib.image.AxesImage at 0x7f3647ca90>"
      ]
     },
     "execution_count": 9,
     "metadata": {},
     "output_type": "execute_result"
    },
    {
     "data": {
      "image/png": "[encoded data removed]",
      "text/plain": [
       "<Figure size 432x288 with 1 Axes>"
      ]
     },
     "metadata": {
      "needs_background": "light"
     },
     "output_type": "display_data"
    }
   ],
   "source": [
    "test_img = x_train[5]\n",
    "plt.imshow(test_img, cmap = 'gray')"
   ]
  },
  {
   "cell_type": "code",
   "execution_count": 10,
   "id": "71a7ae10-ffc7-4ff4-864b-fa13cfe1c9df",
   "metadata": {},
   "outputs": [
    {
     "data": {
      "text/plain": [
       "<matplotlib.image.AxesImage at 0x7f326f5a58>"
      ]
     },
     "execution_count": 10,
     "metadata": {},
     "output_type": "execute_result"
    },
    {
     "data": {
      "image/png": "[encoded data removed]",
      "text/plain": [
       "<Figure size 432x288 with 1 Axes>"
      ]
     },
     "metadata": {
      "needs_background": "light"
     },
     "output_type": "display_data"
    }
   ],
   "source": [
    "test_img_final = preprocess_pipeline(np.array(test_img))\n",
    "plt.imshow(test_img_final, cmap=\"gray\")"
   ]
  },
  {
   "cell_type": "code",
   "execution_count": 11,
   "id": "57ee24d0-2c62-42b1-8c5f-b9f2e296e49e",
   "metadata": {},
   "outputs": [
    {
     "data": {
      "text/plain": [
       "array([ 0.        ,  0.        ,  0.        ,  8.94509769,  0.01960885,\n",
       "        0.        ,  0.        , 10.58039154,  5.89019635,  6.02352937,\n",
       "        6.86274488,  0.        ,  0.        ,  1.97647172,  8.43921534,\n",
       "        4.28235292,  7.79215674,  0.        ,  0.        , 10.13333362,\n",
       "       10.11764675,  7.26666635,  8.65882323, 18.87843148, 10.72941216,\n",
       "        9.86274501, 10.14509797,  0.        ,  3.36862797,  3.28235334,\n",
       "        0.        ,  0.        ,  0.        ,  0.        ,  0.        ,\n",
       "        0.        ])"
      ]
     },
     "execution_count": 11,
     "metadata": {},
     "output_type": "execute_result"
    }
   ],
   "source": [
    "flatten(test_img_final)"
   ]
  },
  {
   "cell_type": "code",
   "execution_count": 12,
   "id": "89df1ba8-8e41-4577-8d1b-63a8cc1c1b16",
   "metadata": {},
   "outputs": [],
   "source": [
    "x_train_processed = []\n",
    "for x in x_train:\n",
    "    new = flatten(preprocess_pipeline(x))\n",
    "    x_train_processed.append(new)\n",
    "x_train_processed = np.array(x_train_processed)\n",
    "\n",
    "x_test_processed = []\n",
    "for x in x_test:\n",
    "    new = flatten(preprocess_pipeline(x))\n",
    "    x_test_processed.append(new)\n",
    "x_test_processed = np.array(x_test_processed)"
   ]
  },
  {
   "cell_type": "code",
   "execution_count": 13,
   "id": "258f297d-0b25-4bb2-b35d-4f1e01b01069",
   "metadata": {},
   "outputs": [],
   "source": [
    "from tensorflow.keras.models import Sequential\n",
    "from tensorflow.keras.layers import Dense\n",
    "from tensorflow.keras.optimizers import SGD\n",
    "from tensorflow.keras.utils import to_categorical"
   ]
  },
  {
   "cell_type": "code",
   "execution_count": 14,
   "id": "71fbac26-4938-4e6b-9c06-4c5c0c5c8d5b",
   "metadata": {},
   "outputs": [],
   "source": [
    "model = Sequential()\n",
    "model.add(Dense(36, input_shape=(36,), activation=\"sigmoid\"))\n",
    "model.add(Dense(16, activation=\"relu\"))\n",
    "model.add(Dense(10, activation=\"softmax\"))\n",
    "\n",
    "y_train_category = to_categorical(y_train, 10)\n",
    "y_test_category = to_categorical(y_test, 10)"
   ]
  },
  {
   "cell_type": "code",
   "execution_count": 15,
   "id": "d2658659-c7a4-49bd-90b4-15065f8a77ca",
   "metadata": {},
   "outputs": [
    {
     "name": "stdout",
     "output_type": "stream",
     "text": [
      "Epoch 1/100\n",
      "79/79 [==============================] - 8s 17ms/step - loss: 2.1890 - accuracy: 0.2364\n",
      "Epoch 2/100\n",
      "79/79 [==============================] - 1s 17ms/step - loss: 1.7426 - accuracy: 0.4768\n",
      "Epoch 3/100\n",
      "79/79 [==============================] - 1s 15ms/step - loss: 1.3044 - accuracy: 0.6307\n",
      "Epoch 4/100\n",
      "79/79 [==============================] - 1s 16ms/step - loss: 1.0514 - accuracy: 0.6974\n",
      "Epoch 5/100\n",
      "79/79 [==============================] - 1s 16ms/step - loss: 0.9189 - accuracy: 0.7278\n",
      "Epoch 6/100\n",
      "79/79 [==============================] - 1s 16ms/step - loss: 0.8422 - accuracy: 0.7452\n",
      "Epoch 7/100\n",
      "79/79 [==============================] - 1s 15ms/step - loss: 0.7953 - accuracy: 0.7544\n",
      "Epoch 8/100\n",
      "79/79 [==============================] - 1s 16ms/step - loss: 0.7622 - accuracy: 0.7624\n",
      "Epoch 9/100\n",
      "79/79 [==============================] - 1s 15ms/step - loss: 0.7368 - accuracy: 0.7694\n",
      "Epoch 10/100\n",
      "79/79 [==============================] - 1s 16ms/step - loss: 0.7157 - accuracy: 0.7782\n",
      "Epoch 11/100\n",
      "79/79 [==============================] - 1s 16ms/step - loss: 0.6981 - accuracy: 0.7833\n",
      "Epoch 12/100\n",
      "79/79 [==============================] - 1s 16ms/step - loss: 0.6817 - accuracy: 0.7889\n",
      "Epoch 13/100\n",
      "79/79 [==============================] - 1s 16ms/step - loss: 0.6678 - accuracy: 0.7922\n",
      "Epoch 14/100\n",
      "79/79 [==============================] - 1s 16ms/step - loss: 0.6560 - accuracy: 0.7958\n",
      "Epoch 15/100\n",
      "79/79 [==============================] - 1s 16ms/step - loss: 0.6430 - accuracy: 0.8029\n",
      "Epoch 16/100\n",
      "79/79 [==============================] - 1s 16ms/step - loss: 0.6329 - accuracy: 0.8012\n",
      "Epoch 17/100\n",
      "79/79 [==============================] - 1s 14ms/step - loss: 0.6217 - accuracy: 0.8081\n",
      "Epoch 18/100\n",
      "79/79 [==============================] - 1s 15ms/step - loss: 0.6113 - accuracy: 0.8117\n",
      "Epoch 19/100\n",
      "79/79 [==============================] - ETA: 0s - loss: 0.6033 - accuracy: 0.81 - 1s 16ms/step - loss: 0.6030 - accuracy: 0.8125\n",
      "Epoch 20/100\n",
      "79/79 [==============================] - 1s 16ms/step - loss: 0.5952 - accuracy: 0.8147\n",
      "Epoch 21/100\n",
      "79/79 [==============================] - 1s 16ms/step - loss: 0.5866 - accuracy: 0.8162\n",
      "Epoch 22/100\n",
      "79/79 [==============================] - 1s 16ms/step - loss: 0.5782 - accuracy: 0.8186\n",
      "Epoch 23/100\n",
      "79/79 [==============================] - 1s 16ms/step - loss: 0.5707 - accuracy: 0.8223\n",
      "Epoch 24/100\n",
      "79/79 [==============================] - 1s 16ms/step - loss: 0.5624 - accuracy: 0.8244\n",
      "Epoch 25/100\n",
      "79/79 [==============================] - 1s 15ms/step - loss: 0.5570 - accuracy: 0.8279\n",
      "Epoch 26/100\n",
      "79/79 [==============================] - 1s 16ms/step - loss: 0.5495 - accuracy: 0.8277\n",
      "Epoch 27/100\n",
      "79/79 [==============================] - 1s 16ms/step - loss: 0.5419 - accuracy: 0.8290\n",
      "Epoch 28/100\n",
      "79/79 [==============================] - 1s 17ms/step - loss: 0.5355 - accuracy: 0.8303\n",
      "Epoch 29/100\n",
      "79/79 [==============================] - 1s 16ms/step - loss: 0.5304 - accuracy: 0.8343\n",
      "Epoch 30/100\n",
      "79/79 [==============================] - 1s 16ms/step - loss: 0.5236 - accuracy: 0.8340\n",
      "Epoch 31/100\n",
      "79/79 [==============================] - 1s 16ms/step - loss: 0.5199 - accuracy: 0.8369\n",
      "Epoch 32/100\n",
      "79/79 [==============================] - 1s 16ms/step - loss: 0.5148 - accuracy: 0.8381\n",
      "Epoch 33/100\n",
      "79/79 [==============================] - 1s 16ms/step - loss: 0.5077 - accuracy: 0.8398\n",
      "Epoch 34/100\n",
      "79/79 [==============================] - 1s 18ms/step - loss: 0.5032 - accuracy: 0.8394\n",
      "Epoch 35/100\n",
      "79/79 [==============================] - 1s 16ms/step - loss: 0.4967 - accuracy: 0.8443\n",
      "Epoch 36/100\n",
      "79/79 [==============================] - 1s 16ms/step - loss: 0.4942 - accuracy: 0.8446\n",
      "Epoch 37/100\n",
      "79/79 [==============================] - 1s 16ms/step - loss: 0.4881 - accuracy: 0.8457\n",
      "Epoch 38/100\n",
      "79/79 [==============================] - 1s 15ms/step - loss: 0.4840 - accuracy: 0.8465\n",
      "Epoch 39/100\n",
      "79/79 [==============================] - 1s 16ms/step - loss: 0.4787 - accuracy: 0.8487\n",
      "Epoch 40/100\n",
      "79/79 [==============================] - 1s 17ms/step - loss: 0.4793 - accuracy: 0.8485\n",
      "Epoch 41/100\n",
      "79/79 [==============================] - 1s 17ms/step - loss: 0.4716 - accuracy: 0.8491\n",
      "Epoch 42/100\n",
      "79/79 [==============================] - 1s 16ms/step - loss: 0.4681 - accuracy: 0.8518\n",
      "Epoch 43/100\n",
      "79/79 [==============================] - 1s 16ms/step - loss: 0.4620 - accuracy: 0.8513\n",
      "Epoch 44/100\n",
      "79/79 [==============================] - 1s 17ms/step - loss: 0.4586 - accuracy: 0.8526\n",
      "Epoch 45/100\n",
      "79/79 [==============================] - 1s 16ms/step - loss: 0.4556 - accuracy: 0.8530\n",
      "Epoch 46/100\n",
      "79/79 [==============================] - 1s 16ms/step - loss: 0.4499 - accuracy: 0.8542\n",
      "Epoch 47/100\n",
      "79/79 [==============================] - 1s 16ms/step - loss: 0.4475 - accuracy: 0.8540\n",
      "Epoch 48/100\n",
      "79/79 [==============================] - 1s 16ms/step - loss: 0.4434 - accuracy: 0.8558\n",
      "Epoch 49/100\n",
      "79/79 [==============================] - 1s 16ms/step - loss: 0.4418 - accuracy: 0.8566\n",
      "Epoch 50/100\n",
      "79/79 [==============================] - 1s 17ms/step - loss: 0.4381 - accuracy: 0.8584\n",
      "Epoch 51/100\n",
      "79/79 [==============================] - 1s 16ms/step - loss: 0.4333 - accuracy: 0.8620\n",
      "Epoch 52/100\n",
      "79/79 [==============================] - 1s 17ms/step - loss: 0.4309 - accuracy: 0.8602\n",
      "Epoch 53/100\n",
      "79/79 [==============================] - 1s 17ms/step - loss: 0.4279 - accuracy: 0.8618\n",
      "Epoch 54/100\n",
      "79/79 [==============================] - 1s 16ms/step - loss: 0.4270 - accuracy: 0.8598\n",
      "Epoch 55/100\n",
      "79/79 [==============================] - 1s 16ms/step - loss: 0.4220 - accuracy: 0.8630\n",
      "Epoch 56/100\n",
      "79/79 [==============================] - 1s 16ms/step - loss: 0.4199 - accuracy: 0.8645\n",
      "Epoch 57/100\n",
      "79/79 [==============================] - 1s 17ms/step - loss: 0.4198 - accuracy: 0.8632\n",
      "Epoch 58/100\n",
      "79/79 [==============================] - 1s 17ms/step - loss: 0.4150 - accuracy: 0.8645\n",
      "Epoch 59/100\n",
      "79/79 [==============================] - 1s 16ms/step - loss: 0.4128 - accuracy: 0.8644\n",
      "Epoch 60/100\n",
      "79/79 [==============================] - 1s 17ms/step - loss: 0.4101 - accuracy: 0.8669\n",
      "Epoch 61/100\n",
      "79/79 [==============================] - 1s 17ms/step - loss: 0.4092 - accuracy: 0.8634\n",
      "Epoch 62/100\n",
      "79/79 [==============================] - 1s 16ms/step - loss: 0.4042 - accuracy: 0.8672\n",
      "Epoch 63/100\n",
      "79/79 [==============================] - 1s 16ms/step - loss: 0.4026 - accuracy: 0.8675\n",
      "Epoch 64/100\n",
      "79/79 [==============================] - 1s 15ms/step - loss: 0.4001 - accuracy: 0.8694\n",
      "Epoch 65/100\n",
      "79/79 [==============================] - 1s 16ms/step - loss: 0.3995 - accuracy: 0.8710\n",
      "Epoch 66/100\n",
      "79/79 [==============================] - 1s 16ms/step - loss: 0.3968 - accuracy: 0.8723\n",
      "Epoch 67/100\n",
      "79/79 [==============================] - 1s 16ms/step - loss: 0.3961 - accuracy: 0.8707\n",
      "Epoch 68/100\n",
      "79/79 [==============================] - 1s 16ms/step - loss: 0.3935 - accuracy: 0.8737\n",
      "Epoch 69/100\n",
      "79/79 [==============================] - 1s 16ms/step - loss: 0.3903 - accuracy: 0.8734\n",
      "Epoch 70/100\n",
      "79/79 [==============================] - 1s 17ms/step - loss: 0.3890 - accuracy: 0.8746\n",
      "Epoch 71/100\n",
      "79/79 [==============================] - 1s 17ms/step - loss: 0.3876 - accuracy: 0.8737\n",
      "Epoch 72/100\n",
      "79/79 [==============================] - 1s 16ms/step - loss: 0.3871 - accuracy: 0.8724\n",
      "Epoch 73/100\n",
      "79/79 [==============================] - 1s 16ms/step - loss: 0.3848 - accuracy: 0.8739\n",
      "Epoch 74/100\n",
      "79/79 [==============================] - 1s 16ms/step - loss: 0.3819 - accuracy: 0.8762\n",
      "Epoch 75/100\n",
      "79/79 [==============================] - 1s 17ms/step - loss: 0.3830 - accuracy: 0.8731\n",
      "Epoch 76/100\n",
      "79/79 [==============================] - 1s 16ms/step - loss: 0.3793 - accuracy: 0.8754\n",
      "Epoch 77/100\n",
      "79/79 [==============================] - ETA: 0s - loss: 0.3761 - accuracy: 0.87 - 1s 16ms/step - loss: 0.3763 - accuracy: 0.8769\n",
      "Epoch 78/100\n",
      "79/79 [==============================] - 1s 17ms/step - loss: 0.3778 - accuracy: 0.8789\n",
      "Epoch 79/100\n",
      "79/79 [==============================] - 1s 18ms/step - loss: 0.3753 - accuracy: 0.8763\n",
      "Epoch 80/100\n",
      "79/79 [==============================] - 1s 17ms/step - loss: 0.3725 - accuracy: 0.8800\n",
      "Epoch 81/100\n",
      "79/79 [==============================] - 1s 17ms/step - loss: 0.3709 - accuracy: 0.8782\n",
      "Epoch 82/100\n",
      "79/79 [==============================] - 1s 16ms/step - loss: 0.3727 - accuracy: 0.8760\n",
      "Epoch 83/100\n",
      "79/79 [==============================] - 1s 16ms/step - loss: 0.3696 - accuracy: 0.8785\n",
      "Epoch 84/100\n",
      "79/79 [==============================] - 1s 16ms/step - loss: 0.3686 - accuracy: 0.8787\n",
      "Epoch 85/100\n",
      "79/79 [==============================] - 1s 17ms/step - loss: 0.3675 - accuracy: 0.8779\n",
      "Epoch 86/100\n",
      "79/79 [==============================] - 1s 16ms/step - loss: 0.3659 - accuracy: 0.8802\n",
      "Epoch 87/100\n",
      "79/79 [==============================] - 1s 16ms/step - loss: 0.3648 - accuracy: 0.8796\n",
      "Epoch 88/100\n",
      "79/79 [==============================] - 1s 17ms/step - loss: 0.3616 - accuracy: 0.8817\n",
      "Epoch 89/100\n",
      "79/79 [==============================] - 1s 16ms/step - loss: 0.3624 - accuracy: 0.8816\n",
      "Epoch 90/100\n",
      "79/79 [==============================] - 1s 17ms/step - loss: 0.3619 - accuracy: 0.8818\n",
      "Epoch 91/100\n",
      "79/79 [==============================] - 1s 17ms/step - loss: 0.3597 - accuracy: 0.8824\n",
      "Epoch 92/100\n",
      "79/79 [==============================] - 1s 17ms/step - loss: 0.3592 - accuracy: 0.8814\n",
      "Epoch 93/100\n",
      "79/79 [==============================] - 1s 17ms/step - loss: 0.3571 - accuracy: 0.8819\n",
      "Epoch 94/100\n",
      "79/79 [==============================] - 1s 16ms/step - loss: 0.3565 - accuracy: 0.8839\n",
      "Epoch 95/100\n",
      "79/79 [==============================] - 1s 17ms/step - loss: 0.3557 - accuracy: 0.8840\n",
      "Epoch 96/100\n",
      "79/79 [==============================] - 1s 16ms/step - loss: 0.3546 - accuracy: 0.8875\n",
      "Epoch 97/100\n",
      "79/79 [==============================] - 1s 16ms/step - loss: 0.3522 - accuracy: 0.8858\n",
      "Epoch 98/100\n",
      "79/79 [==============================] - 1s 17ms/step - loss: 0.3510 - accuracy: 0.8857\n",
      "Epoch 99/100\n",
      "79/79 [==============================] - 1s 17ms/step - loss: 0.3523 - accuracy: 0.8845\n",
      "Epoch 100/100\n",
      "79/79 [==============================] - 1s 16ms/step - loss: 0.3515 - accuracy: 0.8850\n"
     ]
    }
   ],
   "source": [
    "sgd = SGD(0.1)\n",
    "model.compile(loss=\"categorical_crossentropy\", optimizer = \"adam\", metrics=[\"accuracy\"])\n",
    "H = model.fit(x_train_processed, y_train_category, epochs=100, batch_size=128)"
   ]
  },
  {
   "cell_type": "code",
   "execution_count": 16,
   "id": "ac20a579-5d98-4dc9-8fbf-86fc04d505ec",
   "metadata": {},
   "outputs": [
    {
     "name": "stdout",
     "output_type": "stream",
     "text": [
      "63/63 [==============================] - 1s 13ms/step - loss: 0.6708 - accuracy: 0.7945\n"
     ]
    },
    {
     "data": {
      "text/plain": [
       "[0.6707645654678345, 0.7944999933242798]"
      ]
     },
     "execution_count": 16,
     "metadata": {},
     "output_type": "execute_result"
    }
   ],
   "source": [
    "model.evaluate(x_test_processed, y_test_category)"
   ]
  },
  {
   "cell_type": "code",
   "execution_count": null,
   "id": "02f4b869-874f-46b4-b63d-81a66f0bda66",
   "metadata": {},
   "outputs": [],
   "source": []
  }
 ],
 "metadata": {
  "kernelspec": {
   "display_name": "Python 3",
   "language": "python",
   "name": "python3"
  },
  "language_info": {
   "codemirror_mode": {
    "name": "ipython",
    "version": 3
   },
   "file_extension": ".py",
   "mimetype": "text/x-python",
   "name": "python",
   "nbconvert_exporter": "python",
   "pygments_lexer": "ipython3",
   "version": "3.6.9"
  }
 },
 "nbformat": 4,
 "nbformat_minor": 5
}
