{
 "cells": [
  {
   "cell_type": "code",
   "execution_count": 2,
   "id": "4a9b690e-5252-48a8-9b70-0700535e4105",
   "metadata": {},
   "outputs": [],
   "source": [
    "from numba import cuda, jit, int64\n",
    "import numpy as np\n",
    "import timeit, random, time\n",
    "import matplotlib.pyplot as plt\n",
    "from PIL import Image, ImageOps"
   ]
  },
  {
   "cell_type": "markdown",
   "id": "132bd445-d59b-4f8a-b37e-5c73a159c170",
   "metadata": {},
   "source": [
    "# Preperations\n",
    "#### For the first few steps, we will use an image of a dog. The file is named \"dog.jpeg.\" For simplicity, we will convert this image to a 56x56 grayscale image."
   ]
  },
  {
   "cell_type": "code",
   "execution_count": 3,
   "id": "b31ebfb4-548f-4543-8cce-3309093269aa",
   "metadata": {},
   "outputs": [
    {
     "data": {
      "text/plain": [
       "<matplotlib.image.AxesImage at 0x7f6fb69860>"
      ]
     },
     "execution_count": 3,
     "metadata": {},
     "output_type": "execute_result"
    },
    {
     "data": {
      "image/png": "[encoded data removed]",
      "text/plain": [
       "<Figure size 432x288 with 1 Axes>"
      ]
     },
     "metadata": {
      "needs_background": "light"
     },
     "output_type": "display_data"
    }
   ],
   "source": [
    "img = Image.open(\"dog.jpeg\")\n",
    "img = img.resize(size=(56, 56))\n",
    "img = ImageOps.grayscale(img)\n",
    "img = np.array(img)\n",
    "plt.imshow(img, cmap=\"gray\")"
   ]
  },
  {
   "cell_type": "markdown",
   "id": "2ed7de94-7939-41a5-a026-2169aae90ca9",
   "metadata": {},
   "source": [
    "#### When using a convolution layer, there are several different kernels that can be applied to the image. Here are some popular 3x3 kernels (sharpen, blur, and outline)."
   ]
  },
  {
   "cell_type": "code",
   "execution_count": 4,
   "id": "fc0d91c2-26f3-49fd-a59f-37c8d42e91d9",
   "metadata": {},
   "outputs": [],
   "source": [
    "sharpen_matrix = np.array([\n",
    "    [0, -1, 0],\n",
    "    [-1, 5, -1],\n",
    "    [0, -1, 0]\n",
    "])\n",
    "\n",
    "blur_matrix = np.array([\n",
    "    [0.0625, 0.125, 0.0625],\n",
    "    [0.125, 0.25, 0.125],\n",
    "    [0.0625, 0.125, 0.0625]\n",
    "])\n",
    "\n",
    "outline_matrix = np.array([\n",
    "    [-1, -1, -1],\n",
    "    [-1, 8, -1],\n",
    "    [-1, -1, -1]\n",
    "])"
   ]
  },
  {
   "cell_type": "markdown",
   "id": "bbe19654-a4ae-424c-8ef9-ad6e4ed8c136",
   "metadata": {},
   "source": [
    "#### Below is a function that takes in the size of the image and size of the kernel and then calculates the size of the convolved output."
   ]
  },
  {
   "cell_type": "code",
   "execution_count": 5,
   "id": "558ed8e6-e347-488d-a6a8-906575c8c2c9",
   "metadata": {},
   "outputs": [],
   "source": [
    "def calculate_target_size(img_size, kernel_size):\n",
    "    width = img_size[0] - kernel_size[0] + 1\n",
    "    height = img_size[1] - kernel_size[1] + 1\n",
    "    return (width, height)"
   ]
  },
  {
   "cell_type": "markdown",
   "id": "d2123fc6-64bc-4eba-bddf-80d02ef6ea86",
   "metadata": {},
   "source": [
    "#### Below is a convolution function written in basic Python. It loops through every possible kernel location in the image (by looping through each output location in the convolved_img) and then calculates the value based on the image values and the kernel."
   ]
  },
  {
   "cell_type": "code",
   "execution_count": 14,
   "id": "a06942a1-1b6a-4e0c-bee7-4629723aa78d",
   "metadata": {},
   "outputs": [],
   "source": [
    "def normal_convolve(img, kernel): # Both inputs are np.arrays\n",
    "    # Calculate the final size of the convolved image\n",
    "    tgt_size = calculate_target_size(\n",
    "        img_size=img.shape,\n",
    "        kernel_size=kernel.shape\n",
    "    )\n",
    "    \n",
    "    # 2D array of zeros\n",
    "    convolved_img = np.zeros(shape=tgt_size)\n",
    "    \n",
    "    # Iterate over the rows\n",
    "    for i in range(tgt_size[0]):\n",
    "        # Iterate over the columns\n",
    "        for j in range(tgt_size[1]):\n",
    "            # Set initial sum to 0\n",
    "            s = 0\n",
    "            \n",
    "            # Generate a new array for the section of the original image that we will iterate over. This probably takes a bit more time, but it is easier to understand\n",
    "            kx = kernel.shape[0]\n",
    "            ky = kernel.shape[1]\n",
    "            mat = img[i:i+kx, j:j+ky]\n",
    "\n",
    "            # Loop through each value in the image and the kernel and find the sum\n",
    "            for k in range(mat.shape[0]):\n",
    "                for l in range(mat.shape[1]):\n",
    "                    s += mat[k, l] * kernel[k, l]\n",
    "                  \n",
    "            # Set the sum to the corresponding output pixel. Max(0, s) is a ReLU function that keeps all values positive.\n",
    "            convolved_img[i, j] = max(0, s)\n",
    "            \n",
    "    return convolved_img"
   ]
  },
  {
   "cell_type": "markdown",
   "id": "cc28cf53-ccb1-45bd-83be-3f405603e3fe",
   "metadata": {},
   "source": [
    "#### Let's try it on the dog image! You can see how each kernel results in a completely different output."
   ]
  },
  {
   "cell_type": "code",
   "execution_count": 15,
   "id": "6e60f2c4-2102-460e-bb0c-7b6076e5b538",
   "metadata": {},
   "outputs": [
    {
     "data": {
      "text/plain": [
       "<matplotlib.image.AxesImage at 0x7f6f9e2a90>"
      ]
     },
     "execution_count": 15,
     "metadata": {},
     "output_type": "execute_result"
    },
    {
     "data": {
      "image/png": "[encoded data removed]",
      "text/plain": [
       "<Figure size 432x288 with 1 Axes>"
      ]
     },
     "metadata": {
      "needs_background": "light"
     },
     "output_type": "display_data"
    }
   ],
   "source": [
    "img_sharp = normal_convolve(img=np.array(img), kernel=sharpen_matrix)\n",
    "plt.imshow(img_sharp, cmap=\"gray\")"
   ]
  },
  {
   "cell_type": "code",
   "execution_count": 16,
   "id": "2af66d18-573a-45e8-8cb5-21a289a333a5",
   "metadata": {},
   "outputs": [
    {
     "data": {
      "text/plain": [
       "<matplotlib.image.AxesImage at 0x7f6f944518>"
      ]
     },
     "execution_count": 16,
     "metadata": {},
     "output_type": "execute_result"
    },
    {
     "data": {
      "image/png": "[encoded data removed]",
      "text/plain": [
       "<Figure size 432x288 with 1 Axes>"
      ]
     },
     "metadata": {
      "needs_background": "light"
     },
     "output_type": "display_data"
    }
   ],
   "source": [
    "img_blur = normal_convolve(img=np.array(img), kernel=blur_matrix)\n",
    "plt.imshow(img_blur, cmap=\"gray\")"
   ]
  },
  {
   "cell_type": "code",
   "execution_count": 17,
   "id": "736ecdc8-2798-4e67-b104-9a3992ad4997",
   "metadata": {},
   "outputs": [
    {
     "data": {
      "text/plain": [
       "<matplotlib.image.AxesImage at 0x7f6f91bf60>"
      ]
     },
     "execution_count": 17,
     "metadata": {},
     "output_type": "execute_result"
    },
    {
     "data": {
      "image/png": "[encoded data removed]",
      "text/plain": [
       "<Figure size 432x288 with 1 Axes>"
      ]
     },
     "metadata": {
      "needs_background": "light"
     },
     "output_type": "display_data"
    }
   ],
   "source": [
    "img_outline = normal_convolve(img=np.array(img), kernel=outline_matrix)\n",
    "plt.imshow(img_outline, cmap=\"gray\")"
   ]
  },
  {
   "cell_type": "markdown",
   "id": "747da6f4-f9dd-4768-b542-ec17a8619760",
   "metadata": {},
   "source": [
    "#### Now let's time how long this convolution takes! It should take around 400-500 ms. This value will change based on how large the image is (in this case it is 56x56)\n",
    "This time can be sped up a decent bit, especially with the matrix multiplication part. Using np.multiply will result in faster times, but it is easier to understand the plain Python code. There are also other optimizations that can be made, but the main point is that this function is pretty slow and will become ETREMELY slow on larger images."
   ]
  },
  {
   "cell_type": "code",
   "execution_count": 13,
   "id": "567c1cdf-71c7-4a35-a8fc-f071141f1776",
   "metadata": {},
   "outputs": [
    {
     "name": "stdout",
     "output_type": "stream",
     "text": [
      "476 ms ± 7.83 ms per loop (mean ± std. dev. of 7 runs, 1 loop each)\n"
     ]
    }
   ],
   "source": [
    "%timeit normal_convolve(img=np.array(img), kernel=sharpen_matrix)"
   ]
  },
  {
   "cell_type": "markdown",
   "id": "0d630852-a97f-4f26-a313-c07d3c0a5a2e",
   "metadata": {},
   "source": [
    "#### Now let's utilize the GPU! We can pretty much reuse the code from earlier, but instead of using the overall i and j loop, we can use threads and give each thread a different i and j."
   ]
  },
  {
   "cell_type": "code",
   "execution_count": 19,
   "id": "93e9a41f-2717-45fe-9cd7-837bfdace16f",
   "metadata": {},
   "outputs": [],
   "source": [
    "def gpu_convolve_runner(img, kernel):\n",
    "    # Generate the output array like before\n",
    "    tgt_size = calculate_target_size(\n",
    "        img_size=img.shape,\n",
    "        kernel_size=kernel.shape\n",
    "    )\n",
    "    convolved_img = np.zeros(shape=tgt_size)\n",
    "    \n",
    "    # The maximum number of threads per block is 1024, so the maximum would be 32 by 32. We use 16 by 16 here because why not :D\n",
    "    blockDim = (16, 16)\n",
    "    \n",
    "    # This will determine the number of blocks needed and the dimension of the grid\n",
    "    gridDim = (tgt_size[0] // blockDim[0] + 1, tgt_size[1] // blockDim[1] + 1)\n",
    "    \n",
    "    # Calling the GPU function. This will run the gpu_convolve function on every single thread in every block, and each thread will perform one singular convolution.\n",
    "    gpu_convolve[gridDim, blockDim](np.array(img), kernel, convolved_img)\n",
    "    \n",
    "    return convolved_img\n",
    "    \n",
    "\n",
    "@cuda.jit\n",
    "def gpu_convolve(image, mask, result):\n",
    "    # cuda.gird(2) will return the absolute position of the thread in the entire grid. The 2 is the number of dimensions. Essentially, this is \n",
    "    # cuda.blockIdx.x * cuda.blockDim.x + cuda.threadIdx.x but in a single function.\n",
    "    i, j = cuda.grid(2)\n",
    "    \n",
    "    # If i or j are outside of the bounds, return. This is because the largest i and j will always be a multiple of 16 (the block dimensions)\n",
    "    image_rows, image_cols = result.shape\n",
    "    if (i >= image_rows) or (j >= image_cols): \n",
    "        return\n",
    "    \n",
    "    # Set initial sum to 0\n",
    "    s = 0\n",
    "    \n",
    "    # Create the sub-array\n",
    "    kx = mask.shape[0]\n",
    "    ky = mask.shape[1]\n",
    "    mat = image[i:i+kx, j:j+ky]\n",
    "    \n",
    "    # Calculate the sum\n",
    "    for k in range(mat.shape[0]):\n",
    "        for l in range(mat.shape[1]):\n",
    "            s += mat[k, l] * mask[k, l]\n",
    "\n",
    "    result[i, j] = max(0, s) # relu\n"
   ]
  },
  {
   "cell_type": "markdown",
   "id": "5d6e3f58-70d8-48ff-bd77-4979b139f3b1",
   "metadata": {},
   "source": [
    "#### Testing the function"
   ]
  },
  {
   "cell_type": "code",
   "execution_count": 20,
   "id": "1d6b00af-f343-4222-8f3a-d92f1a38e296",
   "metadata": {},
   "outputs": [
    {
     "data": {
      "text/plain": [
       "<matplotlib.image.AxesImage at 0x7f6e099be0>"
      ]
     },
     "execution_count": 20,
     "metadata": {},
     "output_type": "execute_result"
    },
    {
     "data": {
      "image/png": "[encoded data removed]",
      "text/plain": [
       "<Figure size 432x288 with 1 Axes>"
      ]
     },
     "metadata": {
      "needs_background": "light"
     },
     "output_type": "display_data"
    }
   ],
   "source": [
    "img_sharp2 = gpu_convolve_runner(img=np.array(img), kernel=sharpen_matrix)\n",
    "plt.imshow(img_sharp2, cmap=\"gray\")"
   ]
  },
  {
   "cell_type": "code",
   "execution_count": 21,
   "id": "862f72b3-7d79-4e80-aa62-85c835d23edb",
   "metadata": {},
   "outputs": [
    {
     "data": {
      "text/plain": [
       "<matplotlib.image.AxesImage at 0x7f6cc78d30>"
      ]
     },
     "execution_count": 21,
     "metadata": {},
     "output_type": "execute_result"
    },
    {
     "data": {
      "image/png": "[encoded data removed]",
      "text/plain": [
       "<Figure size 432x288 with 1 Axes>"
      ]
     },
     "metadata": {
      "needs_background": "light"
     },
     "output_type": "display_data"
    }
   ],
   "source": [
    "img_blur2 = gpu_convolve_runner(img=np.array(img), kernel=blur_matrix)\n",
    "plt.imshow(img_blur2, cmap=\"gray\")"
   ]
  },
  {
   "cell_type": "code",
   "execution_count": 22,
   "id": "04590cdf-56a3-4079-a6b1-5ae52becd1d4",
   "metadata": {},
   "outputs": [
    {
     "data": {
      "text/plain": [
       "<matplotlib.image.AxesImage at 0x7f6cc34da0>"
      ]
     },
     "execution_count": 22,
     "metadata": {},
     "output_type": "execute_result"
    },
    {
     "data": {
      "image/png": "[encoded data removed]",
      "text/plain": [
       "<Figure size 432x288 with 1 Axes>"
      ]
     },
     "metadata": {
      "needs_background": "light"
     },
     "output_type": "display_data"
    }
   ],
   "source": [
    "img_outline2 = gpu_convolve_runner(img=np.array(img), kernel=outline_matrix)\n",
    "plt.imshow(img_outline2, cmap=\"gray\")"
   ]
  },
  {
   "cell_type": "markdown",
   "id": "802081df-a885-4366-bba7-0a4225267e8a",
   "metadata": {},
   "source": [
    "#### Confirm that they give the same output"
   ]
  },
  {
   "cell_type": "code",
   "execution_count": 24,
   "id": "ef7b097e-73aa-43c6-8e4b-5b9e14b7834a",
   "metadata": {},
   "outputs": [
    {
     "data": {
      "text/plain": [
       "(True, True, True)"
      ]
     },
     "execution_count": 24,
     "metadata": {},
     "output_type": "execute_result"
    }
   ],
   "source": [
    "(np.array_equal(img_sharp, img_sharp2), np.array_equal(img_blur, img_blur2), np.array_equal(img_outline, img_outline2))"
   ]
  },
  {
   "cell_type": "markdown",
   "id": "4e486ed0-4dd8-4e6f-8d37-c1cbe3d78408",
   "metadata": {},
   "source": [
    "#### Timing the GPU convolution function. It should take around 5-10 ms\n",
    "Wow! This is so much faster than the normal convolution!!"
   ]
  },
  {
   "cell_type": "code",
   "execution_count": 25,
   "id": "5afff767-5e59-46d8-8420-bb8714bd02ab",
   "metadata": {},
   "outputs": [
    {
     "name": "stdout",
     "output_type": "stream",
     "text": [
      "7.55 ms ± 227 µs per loop (mean ± std. dev. of 7 runs, 100 loops each)\n"
     ]
    }
   ],
   "source": [
    "%timeit img_sharp2 = gpu_convolve_runner(img=np.array(img), kernel=sharpen_matrix)"
   ]
  },
  {
   "cell_type": "markdown",
   "id": "5ec308f0-060e-4c83-9ab5-5727656899b1",
   "metadata": {},
   "source": [
    "#### Below is a max pooling function written in basic Python. It loops through every pooled dimension (given by dim) in the image by looping through each output location, and then it finds the maximum value within each \"pool\"."
   ]
  },
  {
   "cell_type": "code",
   "execution_count": 20,
   "id": "4409259e-b3cc-4368-80b9-dba5cff459b2",
   "metadata": {},
   "outputs": [],
   "source": [
    "from math import ceil\n",
    "def normal_maxpool(img, dim):\n",
    "    # Determine size of the maxpool\n",
    "    size_x = ceil(img.shape[0] / dim[0])\n",
    "    size_y = ceil(img.shape[1] / dim[1])\n",
    "    result = np.zeros(shape=(size_x, size_y))\n",
    "    \n",
    "    # Loop through each output\n",
    "    for i in range(size_x):\n",
    "        for j in range(size_y):\n",
    "            maxpool = -999\n",
    "            # Loop through each pixel in the \"pool\"\n",
    "            for k in range(dim[0]):\n",
    "                for l in range(dim[1]):\n",
    "                    #Make sure that the dimensions are within the picture\n",
    "                    if dim[0]*i+k < img.shape[0] and dim[1]*j+l < img.shape[1]:\n",
    "                        # set maxpool to the maximum value\n",
    "                        maxpool = max(img[dim[0]*i+k][dim[1]*j+l], maxpool)\n",
    "                    else:\n",
    "                        # If the dimensions are outside the picture, just set that value to 0. This is known as zero-padding.\n",
    "                        maxpool = max(0, maxpool)\n",
    "            # Set the output the the maximum value\n",
    "            result[i][j] = maxpool\n",
    "    return result"
   ]
  },
  {
   "cell_type": "markdown",
   "id": "a0e95ecc-4aa4-4518-99ab-2d63f211c6be",
   "metadata": {},
   "source": [
    "#### Testing the maxpool on the convolved images of the dog. There isn't that much to see, as it is kind of just lowering the resolution of the image."
   ]
  },
  {
   "cell_type": "code",
   "execution_count": 37,
   "id": "f2e51f9f-c03b-4917-a6cf-c69d43483ab5",
   "metadata": {},
   "outputs": [
    {
     "data": {
      "text/plain": [
       "<matplotlib.image.AxesImage at 0x7f6e8f99e8>"
      ]
     },
     "execution_count": 37,
     "metadata": {},
     "output_type": "execute_result"
    },
    {
     "data": {
      "image/png": "[encoded data removed]",
      "text/plain": [
       "<Figure size 432x288 with 1 Axes>"
      ]
     },
     "metadata": {
      "needs_background": "light"
     },
     "output_type": "display_data"
    }
   ],
   "source": [
    "img_sharp_pooled = normal_maxpool(img_sharp, (3,3))\n",
    "plt.imshow(img_sharp_pooled, cmap=\"gray\")"
   ]
  },
  {
   "cell_type": "markdown",
   "id": "5242c2f4-88e3-4015-b0fc-71648ec73e8b",
   "metadata": {},
   "source": [
    "#### Testing the speed of the maxpool. It is significantly faster than the convolution because the output dimension is much smaller and it only goes over each pixel in the original image once."
   ]
  },
  {
   "cell_type": "code",
   "execution_count": 25,
   "id": "7e4553f8-c1bd-4df2-a7e1-1f1a142c09dd",
   "metadata": {},
   "outputs": [
    {
     "name": "stdout",
     "output_type": "stream",
     "text": [
      "18.1 ms ± 81.6 µs per loop (mean ± std. dev. of 7 runs, 100 loops each)\n"
     ]
    }
   ],
   "source": [
    "%timeit img_sharp_pooled = normal_maxpool(img_sharp, (3,3))"
   ]
  },
  {
   "cell_type": "markdown",
   "id": "68ce4821-c560-4f75-8252-a38f9b2e87df",
   "metadata": {},
   "source": [
    "#### Below is the code for a max pooling algorithm on the GPU. Just like the convolution, we can just convert the i and j for loops into i,j = cuda.grid(2), while keeping the rest of the code approximately the same."
   ]
  },
  {
   "cell_type": "code",
   "execution_count": 42,
   "id": "edca4851-61be-4656-8f59-42112733c6ef",
   "metadata": {},
   "outputs": [],
   "source": [
    "from math import ceil\n",
    "def gpu_maxpool_runner(img, dim):\n",
    "    size_x = ceil(img.shape[0] / dim[0])\n",
    "    size_y = ceil(img.shape[1] / dim[1])\n",
    "    \n",
    "    result = np.zeros(shape=(size_x, size_y))\n",
    "    \n",
    "    blockDim = (16, 16)\n",
    "    gridDim = (size_x // blockDim[0] + 1, size_y // blockDim[1] + 1)\n",
    "    \n",
    "    gpu_maxpool[gridDim, blockDim](np.array(img), np.array(dim), result)\n",
    "    \n",
    "    return result\n",
    "\n",
    "@cuda.jit\n",
    "def gpu_maxpool(img, dim, res):\n",
    "    i, j = cuda.grid(2)\n",
    "        \n",
    "    if (i >= res.shape[0]) or (j >= res.shape[1]): \n",
    "        return\n",
    "        \n",
    "    maxpool = -999\n",
    "    \n",
    "    for k in range(dim[0]):\n",
    "        for l in range(dim[1]):\n",
    "            if dim[0]*i+k < img.shape[0] and dim[1]*j+l < img.shape[1]:\n",
    "                maxpool = max(img[dim[0]*i+k][dim[1]*j+l], maxpool)\n",
    "            else:\n",
    "                maxpool = max(0, maxpool)\n",
    "\n",
    "    res[i][j] = maxpool"
   ]
  },
  {
   "cell_type": "code",
   "execution_count": 43,
   "id": "5f9adce0-b95d-4dd5-93b9-b1ba03102465",
   "metadata": {},
   "outputs": [
    {
     "data": {
      "text/plain": [
       "<matplotlib.image.AxesImage at 0x7f6e956b38>"
      ]
     },
     "execution_count": 43,
     "metadata": {},
     "output_type": "execute_result"
    },
    {
     "data": {
      "image/png": "[encoded data removed]",
      "text/plain": [
       "<Figure size 432x288 with 1 Axes>"
      ]
     },
     "metadata": {
      "needs_background": "light"
     },
     "output_type": "display_data"
    }
   ],
   "source": [
    "img_sharp_pooled2 = gpu_maxpool_runner(img_sharp, (3,3))\n",
    "plt.imshow(img_sharp_pooled2, cmap=\"gray\")"
   ]
  },
  {
   "cell_type": "code",
   "execution_count": 45,
   "id": "ba5079b7-5c47-48e3-8de3-c29db9706165",
   "metadata": {},
   "outputs": [
    {
     "name": "stdout",
     "output_type": "stream",
     "text": [
      "6.94 ms ± 61.4 µs per loop (mean ± std. dev. of 7 runs, 100 loops each)\n"
     ]
    }
   ],
   "source": [
    "%timeit img_sharp_pooled2 = gpu_maxpool_runner(img_sharp, (3,3))"
   ]
  },
  {
   "cell_type": "code",
   "execution_count": 44,
   "id": "0b7d5ab2-0d43-4134-b832-ea0c4f192cc0",
   "metadata": {},
   "outputs": [
    {
     "data": {
      "text/plain": [
       "True"
      ]
     },
     "execution_count": 44,
     "metadata": {},
     "output_type": "execute_result"
    }
   ],
   "source": [
    "np.array_equal(img_sharp_pooled, img_sharp_pooled2)"
   ]
  },
  {
   "cell_type": "code",
   "execution_count": 50,
   "id": "8884444f-6cf4-4562-8236-f9cfa39dc519",
   "metadata": {},
   "outputs": [],
   "source": [
    "def convolve_maxpool_normal(img):\n",
    "    img = normal_convolve(img, outline_matrix)\n",
    "    img = normal_maxpool(img, (2, 2))\n",
    "    img = normal_convolve(img, sharpen_matrix)\n",
    "    img = normal_maxpool(img, (2, 2))\n",
    "    return img\n",
    "\n",
    "def convolve_maxpool_gpu(img):\n",
    "    img = gpu_convolve_runner(img, outline_matrix)\n",
    "    img = gpu_maxpool_runner(img, (2, 2))\n",
    "    img = gpu_convolve_runner(img, sharpen_matrix)\n",
    "    img = gpu_maxpool_runner(img, (2, 2))\n",
    "    return img"
   ]
  },
  {
   "cell_type": "code",
   "execution_count": null,
   "id": "20eddcb2-4285-484c-9403-7b8fcd8f55ab",
   "metadata": {},
   "outputs": [],
   "source": [
    "from tensorflow import keras\n",
    "(x_train, y_train), (x_test, y_test) = keras.datasets.mnist.load_data()"
   ]
  },
  {
   "cell_type": "code",
   "execution_count": 64,
   "id": "75940774-821d-4535-90b7-a94c38b70491",
   "metadata": {},
   "outputs": [
    {
     "data": {
      "text/plain": [
       "<matplotlib.image.AxesImage at 0x7f609d00b8>"
      ]
     },
     "execution_count": 64,
     "metadata": {},
     "output_type": "execute_result"
    },
    {
     "data": {
      "image/png": "[encoded data removed]",
      "text/plain": [
       "<Figure size 432x288 with 1 Axes>"
      ]
     },
     "metadata": {
      "needs_background": "light"
     },
     "output_type": "display_data"
    }
   ],
   "source": [
    "test_img = x_train[0]\n",
    "# test_img = img.resize(size=(224, 224))\n",
    "# test_img = ImageOps.grayscale(img)\n",
    "plt.imshow(test_img, cmap=\"gray\")"
   ]
  },
  {
   "cell_type": "code",
   "execution_count": 65,
   "id": "8667a88a-2284-4337-8dfb-be339ce16bd4",
   "metadata": {},
   "outputs": [
    {
     "data": {
      "text/plain": [
       "<matplotlib.image.AxesImage at 0x7f609a3e10>"
      ]
     },
     "execution_count": 65,
     "metadata": {},
     "output_type": "execute_result"
    },
    {
     "data": {
      "image/png": "[encoded data removed]",
      "text/plain": [
       "<Figure size 432x288 with 1 Axes>"
      ]
     },
     "metadata": {
      "needs_background": "light"
     },
     "output_type": "display_data"
    }
   ],
   "source": [
    "img_final = convolve_maxpool_normal(np.array(test_img))\n",
    "plt.imshow(img_final, cmap=\"gray\")"
   ]
  },
  {
   "cell_type": "code",
   "execution_count": 66,
   "id": "9402339c-8d42-49bb-bdaa-f211d945bb48",
   "metadata": {},
   "outputs": [
    {
     "data": {
      "text/plain": [
       "<matplotlib.image.AxesImage at 0x7f609111d0>"
      ]
     },
     "execution_count": 66,
     "metadata": {},
     "output_type": "execute_result"
    },
    {
     "data": {
      "image/png": "[encoded data removed]",
      "text/plain": [
       "<Figure size 432x288 with 1 Axes>"
      ]
     },
     "metadata": {
      "needs_background": "light"
     },
     "output_type": "display_data"
    }
   ],
   "source": [
    "img_final2 = convolve_maxpool_gpu(np.array(test_img))\n",
    "plt.imshow(img_final2, cmap=\"gray\")"
   ]
  },
  {
   "cell_type": "code",
   "execution_count": 56,
   "id": "69b50fc8-99c0-43ed-8d61-bd23f751bb83",
   "metadata": {},
   "outputs": [
    {
     "name": "stdout",
     "output_type": "stream",
     "text": [
      "169 ms ± 673 µs per loop (mean ± std. dev. of 7 runs, 10 loops each)\n"
     ]
    }
   ],
   "source": [
    "%timeit img_final = convolve_maxpool_normal(np.array(test_img))"
   ]
  },
  {
   "cell_type": "code",
   "execution_count": 57,
   "id": "8f938139-0c9e-4872-bb9a-f1666feb39ea",
   "metadata": {},
   "outputs": [
    {
     "name": "stdout",
     "output_type": "stream",
     "text": [
      "27.3 ms ± 455 µs per loop (mean ± std. dev. of 7 runs, 10 loops each)\n"
     ]
    }
   ],
   "source": [
    "%timeit img_final2 = convolve_maxpool_gpu(np.array(test_img))"
   ]
  },
  {
   "cell_type": "code",
   "execution_count": 68,
   "id": "e5b232c8-1ad6-4045-bac8-b3eaeb8390f6",
   "metadata": {},
   "outputs": [
    {
     "data": {
      "text/plain": [
       "<matplotlib.image.AxesImage at 0x7f608fb550>"
      ]
     },
     "execution_count": 68,
     "metadata": {},
     "output_type": "execute_result"
    },
    {
     "data": {
      "image/png": "[encoded data removed]",
      "text/plain": [
       "<Figure size 432x288 with 1 Axes>"
      ]
     },
     "metadata": {
      "needs_background": "light"
     },
     "output_type": "display_data"
    }
   ],
   "source": [
    "plt.imshow(convolve_maxpool_gpu(x_train[1]), cmap=\"gray\")"
   ]
  },
  {
   "cell_type": "code",
   "execution_count": 69,
   "id": "477ae625-88fd-47ce-bbc0-5e9f624ca97e",
   "metadata": {},
   "outputs": [
    {
     "data": {
      "text/plain": [
       "<matplotlib.image.AxesImage at 0x7f60858940>"
      ]
     },
     "execution_count": 69,
     "metadata": {},
     "output_type": "execute_result"
    },
    {
     "data": {
      "image/png": "[encoded data removed]",
      "text/plain": [
       "<Figure size 432x288 with 1 Axes>"
      ]
     },
     "metadata": {
      "needs_background": "light"
     },
     "output_type": "display_data"
    }
   ],
   "source": [
    "plt.imshow(convolve_maxpool_gpu(x_train[2]), cmap=\"gray\")"
   ]
  }
 ],
 "metadata": {
  "kernelspec": {
   "display_name": "Python 3",
   "language": "python",
   "name": "python3"
  },
  "language_info": {
   "codemirror_mode": {
    "name": "ipython",
    "version": 3
   },
   "file_extension": ".py",
   "mimetype": "text/x-python",
   "name": "python",
   "nbconvert_exporter": "python",
   "pygments_lexer": "ipython3",
   "version": "3.6.9"
  }
 },
 "nbformat": 4,
 "nbformat_minor": 5
}
