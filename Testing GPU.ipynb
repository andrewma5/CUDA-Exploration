{
 "cells": [
  {
   "cell_type": "code",
   "execution_count": 1,
   "id": "e6c7e9f1-fa05-4ef6-a1bf-f97e1d468c90",
   "metadata": {},
   "outputs": [],
   "source": [
    "from numba import cuda, jit, int64\n",
    "import numpy as np\n",
    "import timeit, random, time"
   ]
  },
  {
   "cell_type": "markdown",
   "id": "3d73c07d-a684-4b8a-ab9f-99adebb35bd9",
   "metadata": {},
   "source": [
    "## Adding a value to each element in an array"
   ]
  },
  {
   "cell_type": "code",
   "execution_count": 2,
   "id": "a8632ee8-835f-4c7c-9cca-68aecb43b9d0",
   "metadata": {},
   "outputs": [],
   "source": [
    "def normal_function(arr):\n",
    "    for i in range(len(arr)):\n",
    "        arr[i] += 10\n",
    "        \n",
    "def vectorized_function(arr):\n",
    "    arr += 10\n",
    "\n",
    "@cuda.jit\n",
    "def numba_kernel(arr):\n",
    "    index = cuda.blockDim.x * cuda.blockIdx.x + cuda.threadIdx.x\n",
    "    stride = cuda.blockDim.x * cuda.gridDim.x\n",
    "    for i in range(index, len(arr), stride):\n",
    "        arr[i] += 10"
   ]
  },
  {
   "cell_type": "code",
   "execution_count": 3,
   "id": "de4f6b11-0dc6-4927-a7be-9e20d5454ab6",
   "metadata": {},
   "outputs": [],
   "source": [
    "N = 1000000\n",
    "a = np.zeros(N)\n",
    "blockSize = 256\n",
    "numBlocks = (N + blockSize - 1) // blockSize"
   ]
  },
  {
   "cell_type": "code",
   "execution_count": 4,
   "id": "0b2afe6d-7088-425c-b6bc-a32cebbd660f",
   "metadata": {},
   "outputs": [
    {
     "name": "stdout",
     "output_type": "stream",
     "text": [
      "26.8 ms ± 989 µs per loop (mean ± std. dev. of 7 runs, 1 loop each)\n"
     ]
    }
   ],
   "source": [
    "%timeit numba_kernel[numBlocks, blockSize](a)"
   ]
  },
  {
   "cell_type": "code",
   "execution_count": 5,
   "id": "ff9d0535-57ba-4d8f-a162-7d529e4cda3b",
   "metadata": {},
   "outputs": [
    {
     "name": "stdout",
     "output_type": "stream",
     "text": [
      "2.24 s ± 17.7 ms per loop (mean ± std. dev. of 7 runs, 1 loop each)\n"
     ]
    }
   ],
   "source": [
    "%timeit normal_function(a)"
   ]
  },
  {
   "cell_type": "code",
   "execution_count": 6,
   "id": "32a17288-8522-48f0-8afa-aa4b07c89a67",
   "metadata": {},
   "outputs": [
    {
     "name": "stdout",
     "output_type": "stream",
     "text": [
      "3.04 ms ± 15.5 µs per loop (mean ± std. dev. of 7 runs, 100 loops each)\n"
     ]
    }
   ],
   "source": [
    "%timeit vectorized_function(a)"
   ]
  },
  {
   "cell_type": "markdown",
   "id": "c2de32b5-c0de-4274-a3b6-ddc26630c20e",
   "metadata": {},
   "source": [
    "## Dot Product"
   ]
  },
  {
   "cell_type": "code",
   "execution_count": 38,
   "id": "4bafe1b1-3ef5-47f6-8d2a-f269bc965f4a",
   "metadata": {},
   "outputs": [],
   "source": [
    "def normal_dot_function(arr1, arr2):\n",
    "    ret = 0\n",
    "    for i in range(len(arr1)):\n",
    "        ret += arr1[i] * arr2[i]\n",
    "        # print(arr1[i] * arr2[i], end=\" \")\n",
    "    return ret\n",
    "\n",
    "def numpy_dot_function(arr1, arr2):\n",
    "    return np.dot(arr1, arr2)\n",
    "\n",
    "@cuda.jit\n",
    "def naive_gpu_dot_function(arr1, arr2, s):\n",
    "    index = cuda.blockIdx.x * cuda.blockDim.x + cuda.threadIdx.x\n",
    "    stride = cuda.blockDim.x * cuda.gridDim.x\n",
    "    for i in range(index, len(arr1), stride):\n",
    "        s[i] = arr1[i] * arr2[i]\n",
    "\n",
    "def naive_gpu_dot_function_runner(arr1, arr2):\n",
    "    blockSize = 512\n",
    "    s = np.array([0 for _ in range(len(arr1))])\n",
    "    numBlocks = (len(arr1) + blockSize - 1) // blockSize\n",
    "    naive_gpu_dot_function[numBlocks, blockSize](arr1, arr2, s)\n",
    "    return sum(s)\n",
    "    \n",
    "\n",
    "@cuda.jit\n",
    "def gpu_dot_function(arr1, arr2, s, blockSize):\n",
    "    cache = cuda.shared.array(shape = 512, dtype = int64) # Change shape depending on blockSize\n",
    "    i = cuda.blockIdx.x * cuda.blockDim.x + cuda.threadIdx.x\n",
    "    tid = cuda.threadIdx.x\n",
    "    cache[tid] = 0\n",
    "    N = len(arr1)\n",
    "    while (i < N):\n",
    "        cache[tid] += arr1[i] * arr2[i]\n",
    "        i += cuda.gridDim.x * cuda.blockDim.x\n",
    "        \n",
    "    cuda.syncthreads()\n",
    "    \n",
    "    i = blockSize // 2\n",
    "    while (i > 0):\n",
    "        if (tid < i) and (tid + i < N):\n",
    "            cache[tid] += cache[tid + i]\n",
    "        cuda.syncthreads()\n",
    "        i = i // 2\n",
    "    \n",
    "    if (tid == 0):\n",
    "        cuda.atomic.add(s, 0, cache[0])\n",
    "    \n",
    "def gpu_dot_function_runner(arr1, arr2):\n",
    "    s = np.array([0])\n",
    "    blockSize = 512\n",
    "    numBlocks = (len(arr1) + blockSize - 1) // blockSize\n",
    "    gpu_dot_function[numBlocks, blockSize](arr1, arr2, s, blockSize)\n",
    "    return s[0]\n"
   ]
  },
  {
   "cell_type": "code",
   "execution_count": 39,
   "id": "10548fe0-b673-4754-933a-bde1e85f2d63",
   "metadata": {},
   "outputs": [],
   "source": [
    "N = 1000000\n",
    "x = np.array([random.randint(1, 5) for _ in range(N)])\n",
    "y = np.array([random.randint(1, 5) for _ in range(N)])"
   ]
  },
  {
   "cell_type": "code",
   "execution_count": null,
   "id": "d533f04c-d997-4e63-8bfc-85b3e27f8f0e",
   "metadata": {},
   "outputs": [
    {
     "name": "stdout",
     "output_type": "stream",
     "text": [
      "1.83 s ± 37.4 ms per loop (mean ± std. dev. of 7 runs, 1 loop each)\n"
     ]
    }
   ],
   "source": [
    "%timeit normal_dot_function(x, y)"
   ]
  },
  {
   "cell_type": "code",
   "execution_count": 31,
   "id": "e81b6abb-d09f-45c1-ba40-7f09dbe1a05f",
   "metadata": {},
   "outputs": [
    {
     "name": "stdout",
     "output_type": "stream",
     "text": [
      "3.36 ms ± 80.1 µs per loop (mean ± std. dev. of 7 runs, 100 loops each)\n"
     ]
    }
   ],
   "source": [
    "%timeit numpy_dot_function(x, y)"
   ]
  },
  {
   "cell_type": "code",
   "execution_count": null,
   "id": "b3a16c3a-c9c9-43d8-b1be-3ca861b91e3c",
   "metadata": {},
   "outputs": [
    {
     "name": "stdout",
     "output_type": "stream",
     "text": [
      "45.7 ms ± 333 µs per loop (mean ± std. dev. of 7 runs, 10 loops each)\n"
     ]
    }
   ],
   "source": [
    "%timeit gpu_dot_function_runner(x, y)"
   ]
  },
  {
   "cell_type": "code",
   "execution_count": null,
   "id": "963157f4-10a0-475b-a0a9-d464355889d4",
   "metadata": {},
   "outputs": [
    {
     "name": "stdout",
     "output_type": "stream",
     "text": [
      "1.16 s ± 65.6 ms per loop (mean ± std. dev. of 7 runs, 1 loop each)\n"
     ]
    }
   ],
   "source": [
    "%timeit naive_gpu_dot_function_runner(x, y)"
   ]
  },
  {
   "cell_type": "markdown",
   "id": "0c88b23c-3272-4ec2-ad43-fff850d00a2e",
   "metadata": {},
   "source": [
    "## Matrix Multiplication"
   ]
  },
  {
   "cell_type": "code",
   "execution_count": 2,
   "id": "e822e80c-fad6-48fe-884b-c7b76186f69a",
   "metadata": {},
   "outputs": [],
   "source": [
    "def numpy_matmul(arr1, arr2):\n",
    "    return np.matmul(arr1, arr2)\n",
    "\n",
    "def normal_matmul(arr1, arr2, res):\n",
    "    for i in range(len(arr1)):\n",
    "        for j in range(len(arr2[0])):\n",
    "            for k in range(len(arr2)):\n",
    "                res[i][j] += arr1[i][k] * arr2[k][j]\n",
    "    return res\n",
    "\n",
    "@cuda.jit\n",
    "def naive_gpu_matmul(arr1, arr2, res):\n",
    "    i, j = cuda.grid(2)\n",
    "    if i < res.shape[0] and j < res.shape[1]:\n",
    "        tmp = 0.\n",
    "        for k in range(arr1.shape[1]):\n",
    "            tmp += arr1[i, k] * arr2[k, j]\n",
    "        res[i, j] = tmp\n",
    "        \n",
    "def naive_gpu_matmul_runner(arr1, arr2, res):\n",
    "    naive_gpu_matmul[(res.shape[0], res.shape[1]), 1](arr1, arr2, res)\n",
    "    return res"
   ]
  },
  {
   "cell_type": "code",
   "execution_count": 3,
   "id": "fd6530ce-7e3d-4176-aa4a-04a56e3b941b",
   "metadata": {},
   "outputs": [],
   "source": [
    "TPB = 16\n",
    "\n",
    "@cuda.jit\n",
    "def fast_matmul(A, B, C):\n",
    "    # Define an array in the shared memory\n",
    "    # The size and type of the arrays must be known at compile time\n",
    "    sA = cuda.shared.array(shape=(TPB, TPB), dtype=int64)\n",
    "    sB = cuda.shared.array(shape=(TPB, TPB), dtype=int64)\n",
    "\n",
    "    x, y = cuda.grid(2)\n",
    "\n",
    "    tx = cuda.threadIdx.x\n",
    "    ty = cuda.threadIdx.y\n",
    "    bpg = cuda.gridDim.x    # blocks per grid\n",
    "\n",
    "    if x >= C.shape[0] and y >= C.shape[1]:\n",
    "        # Quit if (x, y) is outside of valid C boundary\n",
    "        return\n",
    "\n",
    "    # Each thread computes one element in the result matrix.\n",
    "    # The dot product is chunked into dot products of TPB-long vectors.\n",
    "    tmp = 0\n",
    "    for i in range(bpg):\n",
    "        # Preload data into shared memory\n",
    "        sA[tx, ty] = A[x, ty + i * TPB]\n",
    "        sB[tx, ty] = B[tx + i * TPB, y]\n",
    "\n",
    "        # Wait until all threads finish preloading\n",
    "        cuda.syncthreads()\n",
    "\n",
    "        # Computes partial product on the shared memory\n",
    "        for j in range(TPB):\n",
    "            tmp += sA[tx, j] * sB[j, ty]\n",
    "\n",
    "        # Wait until all threads finish computing\n",
    "        cuda.syncthreads()\n",
    "\n",
    "    C[x, y] = tmp\n",
    "    \n",
    "def fast_gpu_matmul_runner(arr1, arr2, res):\n",
    "    fast_matmul[1, (TPB, TPB)](arr1, arr2, res)\n",
    "    return res"
   ]
  },
  {
   "cell_type": "code",
   "execution_count": 9,
   "id": "f6b535c1-4157-4af5-bfb4-05ace7da1f98",
   "metadata": {},
   "outputs": [],
   "source": [
    "N, M = 100, 100\n",
    "arr1 = np.array([[random.randint(1, 5) for _ in range(N)] for _ in range(M)])\n",
    "arr2 = np.array([[random.randint(1, 5) for _ in range(M)] for _ in range(N)])\n",
    "res = np.array([[0 for _ in range(len(arr1))] for _ in range(len(arr2[0]))])"
   ]
  },
  {
   "cell_type": "code",
   "execution_count": 10,
   "id": "115d18af-6ded-461a-af95-f9cb49efa92a",
   "metadata": {},
   "outputs": [
    {
     "name": "stdout",
     "output_type": "stream",
     "text": [
      "2.88 ms ± 349 µs per loop (mean ± std. dev. of 7 runs, 100 loops each)\n"
     ]
    }
   ],
   "source": [
    "%timeit numpy_matmul(arr1, arr2)"
   ]
  },
  {
   "cell_type": "code",
   "execution_count": 11,
   "id": "0f5e1007-aa31-4843-bec0-430f83f31f8d",
   "metadata": {},
   "outputs": [
    {
     "name": "stdout",
     "output_type": "stream",
     "text": [
      "5.05 s ± 65.4 ms per loop (mean ± std. dev. of 7 runs, 1 loop each)\n"
     ]
    }
   ],
   "source": [
    "res = np.array([[0 for _ in range(len(arr1))] for _ in range(len(arr2[0]))])\n",
    "%timeit normal_matmul(arr1, arr2, res)"
   ]
  },
  {
   "cell_type": "code",
   "execution_count": 12,
   "id": "0340cd10-c848-4283-ae35-dff862e81c16",
   "metadata": {},
   "outputs": [
    {
     "name": "stdout",
     "output_type": "stream",
     "text": [
      "38.2 ms ± 3.8 ms per loop (mean ± std. dev. of 7 runs, 10 loops each)\n"
     ]
    }
   ],
   "source": [
    "res = np.array([[0 for _ in range(len(arr1))] for _ in range(len(arr2[0]))])\n",
    "%timeit naive_gpu_matmul_runner(arr1, arr2, res)"
   ]
  },
  {
   "cell_type": "code",
   "execution_count": 13,
   "id": "6a733ceb-d90f-49e0-9756-1abe227b1b5b",
   "metadata": {},
   "outputs": [
    {
     "name": "stdout",
     "output_type": "stream",
     "text": [
      "7.03 ms ± 42.8 µs per loop (mean ± std. dev. of 7 runs, 100 loops each)\n"
     ]
    }
   ],
   "source": [
    "res = np.array([[0 for _ in range(len(arr1))] for _ in range(len(arr2[0]))])\n",
    "%timeit fast_gpu_matmul_runner(arr1, arr2, res)"
   ]
  },
  {
   "cell_type": "markdown",
   "id": "617b83d0-746a-4849-aab7-ddd54c7eaab1",
   "metadata": {},
   "source": [
    "## Convolutions"
   ]
  },
  {
   "cell_type": "code",
   "execution_count": null,
   "id": "f26e2cb1-9782-4ea3-90f4-fe94c66c64de",
   "metadata": {},
   "outputs": [],
   "source": [
    "sharpen_matrix = np.array([\n",
    "    [0, -1, 0],\n",
    "    [-1, 5, -1],\n",
    "    [0, -1, 0]\n",
    "])\n",
    "\n",
    "blur_matrix = np.array([\n",
    "    [0.0625, 0.125, 0.0625],\n",
    "    [0.125, 0.25, 0.125],\n",
    "    [0.0625, 0.125, 0.0625]\n",
    "])\n",
    "\n",
    "outline_matrix = np.array([\n",
    "    [-1, -1, -1],\n",
    "    [-1, 8, -1],\n",
    "    [-1, -1, -1]\n",
    "])"
   ]
  },
  {
   "cell_type": "code",
   "execution_count": null,
   "id": "362425da-7f32-4bfd-8913-dad10f80b4d9",
   "metadata": {},
   "outputs": [],
   "source": [
    "def normal_convolve(img, kernel): # Both inputs are np.arrays\n",
    "    # Assuming a rectangular image\n",
    "    tgt_size = calculate_target_size(\n",
    "        img_size=img.shape[0],\n",
    "        kernel_size=kernel.shape[0]\n",
    "    )\n",
    "    # To simplify things\n",
    "    k = kernel.shape[0]\n",
    "    \n",
    "    # 2D array of zeros\n",
    "    convolved_img = np.zeros(shape=(tgt_size, tgt_size))\n",
    "    \n",
    "    # Iterate over the rows\n",
    "    for i in range(tgt_size):\n",
    "        # Iterate over the columns\n",
    "        for j in range(tgt_size):\n",
    "            # img[i, j] = individual pixel value\n",
    "            # Get the current matrix\n",
    "            mat = img[i:i+k, j:j+k]\n",
    "            \n",
    "            # Apply the convolution - element-wise multiplication and summation of the result\n",
    "            # Store the result to i-th row and j-th column of our convolved_img array\n",
    "            convolved_img[i, j] = np.sum(np.multiply(mat, kernel))\n",
    "            \n",
    "    return convolved_img"
   ]
  },
  {
   "cell_type": "code",
   "execution_count": null,
   "id": "1c305116-bd0e-472a-a740-06dab6b1b374",
   "metadata": {},
   "outputs": [],
   "source": []
  }
 ],
 "metadata": {
  "kernelspec": {
   "display_name": "Python 3",
   "language": "python",
   "name": "python3"
  },
  "language_info": {
   "codemirror_mode": {
    "name": "ipython",
    "version": 3
   },
   "file_extension": ".py",
   "mimetype": "text/x-python",
   "name": "python",
   "nbconvert_exporter": "python",
   "pygments_lexer": "ipython3",
   "version": "3.6.9"
  }
 },
 "nbformat": 4,
 "nbformat_minor": 5
}
